{
 "cells": [
  {
   "cell_type": "code",
   "execution_count": 27,
   "id": "082cf9ea",
   "metadata": {},
   "outputs": [
    {
     "data": {
      "text/plain": [
       "2628"
      ]
     },
     "execution_count": 27,
     "metadata": {},
     "output_type": "execute_result"
    }
   ],
   "source": [
    "import sys, os, importlib\n",
    "sys.path.append(os.path.abspath(\"..\"))\n",
    "\n",
    "import src.data.nba_client as nba_client\n",
    "importlib.reload(nba_client)\n",
    "\n",
    "from src.data.nba_client import get_team_game_logs_season\n",
    "df = get_team_game_logs_season(\"2024-25\", (\"Regular Season\",\"Playoffs\"))\n",
    "df[\"TEAM_NAME\"].nunique(), df[\"TEAM_ID\"].nunique()   # should be (30, 30)\n",
    "df[\"GAME_DATE\"].min(), df[\"GAME_DATE\"].max()\n",
    "len(df)  # ~2460 for regular season; +playoffs if included\n"
   ]
  },
  {
   "cell_type": "code",
   "execution_count": 28,
   "id": "ae86ffdf",
   "metadata": {},
   "outputs": [
    {
     "data": {
      "text/plain": [
       "(Timestamp('2024-10-22 00:00:00'), Timestamp('2025-06-22 00:00:00'))"
      ]
     },
     "execution_count": 28,
     "metadata": {},
     "output_type": "execute_result"
    }
   ],
   "source": [
    "df[\"TEAM_NAME\"].nunique(), df[\"TEAM_ID\"].nunique()  # expect (30, 30)\n",
    "df[\"GAME_DATE\"].min(), df[\"GAME_DATE\"].max()\n"
   ]
  },
  {
   "cell_type": "code",
   "execution_count": 29,
   "id": "7bbdb2fe",
   "metadata": {},
   "outputs": [],
   "source": [
    "import pandas as pd\n",
    "\n",
    "df = df.sort_values([\"TEAM_NAME\", \"GAME_DATE\"])\n",
    "df[\"PTS_r5\"] = (\n",
    "    df.groupby(\"TEAM_NAME\")[\"PTS\"]\n",
    "      .transform(lambda s: s.rolling(5, min_periods=3).mean())\n",
    ")\n"
   ]
  },
  {
   "cell_type": "code",
   "execution_count": null,
   "id": "ae8938a6",
   "metadata": {},
   "outputs": [
    {
     "ename": "KeyError",
     "evalue": "'PTS_r5'",
     "output_type": "error",
     "traceback": [
      "\u001b[0;31m---------------------------------------------------------------------------\u001b[0m",
      "\u001b[0;31mKeyError\u001b[0m                                  Traceback (most recent call last)",
      "File \u001b[0;32m~/NBA-Prediction-Model/.venv/lib/python3.9/site-packages/pandas/core/indexes/base.py:3812\u001b[0m, in \u001b[0;36mIndex.get_loc\u001b[0;34m(self, key)\u001b[0m\n\u001b[1;32m   3811\u001b[0m \u001b[38;5;28;01mtry\u001b[39;00m:\n\u001b[0;32m-> 3812\u001b[0m     \u001b[38;5;28;01mreturn\u001b[39;00m \u001b[38;5;28;43mself\u001b[39;49m\u001b[38;5;241;43m.\u001b[39;49m\u001b[43m_engine\u001b[49m\u001b[38;5;241;43m.\u001b[39;49m\u001b[43mget_loc\u001b[49m\u001b[43m(\u001b[49m\u001b[43mcasted_key\u001b[49m\u001b[43m)\u001b[49m\n\u001b[1;32m   3813\u001b[0m \u001b[38;5;28;01mexcept\u001b[39;00m \u001b[38;5;167;01mKeyError\u001b[39;00m \u001b[38;5;28;01mas\u001b[39;00m err:\n",
      "File \u001b[0;32mpandas/_libs/index.pyx:167\u001b[0m, in \u001b[0;36mpandas._libs.index.IndexEngine.get_loc\u001b[0;34m()\u001b[0m\n",
      "File \u001b[0;32mpandas/_libs/index.pyx:196\u001b[0m, in \u001b[0;36mpandas._libs.index.IndexEngine.get_loc\u001b[0;34m()\u001b[0m\n",
      "File \u001b[0;32mpandas/_libs/hashtable_class_helper.pxi:7088\u001b[0m, in \u001b[0;36mpandas._libs.hashtable.PyObjectHashTable.get_item\u001b[0;34m()\u001b[0m\n",
      "File \u001b[0;32mpandas/_libs/hashtable_class_helper.pxi:7096\u001b[0m, in \u001b[0;36mpandas._libs.hashtable.PyObjectHashTable.get_item\u001b[0;34m()\u001b[0m\n",
      "\u001b[0;31mKeyError\u001b[0m: 'PTS_r5'",
      "\nThe above exception was the direct cause of the following exception:\n",
      "\u001b[0;31mKeyError\u001b[0m                                  Traceback (most recent call last)",
      "Cell \u001b[0;32mIn[33], line 11\u001b[0m\n\u001b[1;32m      4\u001b[0m     pb \u001b[38;5;241m=\u001b[39m \u001b[38;5;28mfloat\u001b[39m(last\u001b[38;5;241m.\u001b[39mloc[team_b, \u001b[38;5;124m\"\u001b[39m\u001b[38;5;124mPTS_r5\u001b[39m\u001b[38;5;124m\"\u001b[39m])\n\u001b[1;32m      5\u001b[0m     \u001b[38;5;28;01mreturn\u001b[39;00m {\n\u001b[1;32m      6\u001b[0m         \u001b[38;5;124m\"\u001b[39m\u001b[38;5;124mteam_a\u001b[39m\u001b[38;5;124m\"\u001b[39m: team_a, \u001b[38;5;124m\"\u001b[39m\u001b[38;5;124mpredicted_pts_a\u001b[39m\u001b[38;5;124m\"\u001b[39m: \u001b[38;5;28mround\u001b[39m(pa, \u001b[38;5;241m1\u001b[39m),\n\u001b[1;32m      7\u001b[0m         \u001b[38;5;124m\"\u001b[39m\u001b[38;5;124mteam_b\u001b[39m\u001b[38;5;124m\"\u001b[39m: team_b, \u001b[38;5;124m\"\u001b[39m\u001b[38;5;124mpredicted_pts_b\u001b[39m\u001b[38;5;124m\"\u001b[39m: \u001b[38;5;28mround\u001b[39m(pb, \u001b[38;5;241m1\u001b[39m),\n\u001b[1;32m      8\u001b[0m         \u001b[38;5;124m\"\u001b[39m\u001b[38;5;124mwinner\u001b[39m\u001b[38;5;124m\"\u001b[39m: team_a \u001b[38;5;28;01mif\u001b[39;00m pa \u001b[38;5;241m>\u001b[39m pb \u001b[38;5;28;01melse\u001b[39;00m team_b\n\u001b[1;32m      9\u001b[0m     }\n\u001b[0;32m---> 11\u001b[0m \u001b[43mpredict_matchup\u001b[49m\u001b[43m(\u001b[49m\u001b[38;5;124;43m\"\u001b[39;49m\u001b[38;5;124;43mBoston Celtics\u001b[39;49m\u001b[38;5;124;43m\"\u001b[39;49m\u001b[43m,\u001b[49m\u001b[43m \u001b[49m\u001b[38;5;124;43m\"\u001b[39;49m\u001b[38;5;124;43mCleveland Cavaliers\u001b[39;49m\u001b[38;5;124;43m\"\u001b[39;49m\u001b[43m,\u001b[49m\u001b[43m \u001b[49m\u001b[43mdf\u001b[49m\u001b[43m)\u001b[49m\n",
      "Cell \u001b[0;32mIn[33], line 3\u001b[0m, in \u001b[0;36mpredict_matchup\u001b[0;34m(team_a, team_b, frame)\u001b[0m\n\u001b[1;32m      1\u001b[0m \u001b[38;5;28;01mdef\u001b[39;00m\u001b[38;5;250m \u001b[39m\u001b[38;5;21mpredict_matchup\u001b[39m(team_a: \u001b[38;5;28mstr\u001b[39m, team_b: \u001b[38;5;28mstr\u001b[39m, frame: pd\u001b[38;5;241m.\u001b[39mDataFrame):\n\u001b[1;32m      2\u001b[0m     last \u001b[38;5;241m=\u001b[39m frame\u001b[38;5;241m.\u001b[39mgroupby(\u001b[38;5;124m\"\u001b[39m\u001b[38;5;124mTEAM_NAME\u001b[39m\u001b[38;5;124m\"\u001b[39m)\u001b[38;5;241m.\u001b[39mtail(\u001b[38;5;241m1\u001b[39m)\u001b[38;5;241m.\u001b[39mset_index(\u001b[38;5;124m\"\u001b[39m\u001b[38;5;124mTEAM_NAME\u001b[39m\u001b[38;5;124m\"\u001b[39m)\n\u001b[0;32m----> 3\u001b[0m     pa \u001b[38;5;241m=\u001b[39m \u001b[38;5;28mfloat\u001b[39m(\u001b[43mlast\u001b[49m\u001b[38;5;241;43m.\u001b[39;49m\u001b[43mloc\u001b[49m\u001b[43m[\u001b[49m\u001b[43mteam_a\u001b[49m\u001b[43m,\u001b[49m\u001b[43m \u001b[49m\u001b[38;5;124;43m\"\u001b[39;49m\u001b[38;5;124;43mPTS_r5\u001b[39;49m\u001b[38;5;124;43m\"\u001b[39;49m\u001b[43m]\u001b[49m)\n\u001b[1;32m      4\u001b[0m     pb \u001b[38;5;241m=\u001b[39m \u001b[38;5;28mfloat\u001b[39m(last\u001b[38;5;241m.\u001b[39mloc[team_b, \u001b[38;5;124m\"\u001b[39m\u001b[38;5;124mPTS_r5\u001b[39m\u001b[38;5;124m\"\u001b[39m])\n\u001b[1;32m      5\u001b[0m     \u001b[38;5;28;01mreturn\u001b[39;00m {\n\u001b[1;32m      6\u001b[0m         \u001b[38;5;124m\"\u001b[39m\u001b[38;5;124mteam_a\u001b[39m\u001b[38;5;124m\"\u001b[39m: team_a, \u001b[38;5;124m\"\u001b[39m\u001b[38;5;124mpredicted_pts_a\u001b[39m\u001b[38;5;124m\"\u001b[39m: \u001b[38;5;28mround\u001b[39m(pa, \u001b[38;5;241m1\u001b[39m),\n\u001b[1;32m      7\u001b[0m         \u001b[38;5;124m\"\u001b[39m\u001b[38;5;124mteam_b\u001b[39m\u001b[38;5;124m\"\u001b[39m: team_b, \u001b[38;5;124m\"\u001b[39m\u001b[38;5;124mpredicted_pts_b\u001b[39m\u001b[38;5;124m\"\u001b[39m: \u001b[38;5;28mround\u001b[39m(pb, \u001b[38;5;241m1\u001b[39m),\n\u001b[1;32m      8\u001b[0m         \u001b[38;5;124m\"\u001b[39m\u001b[38;5;124mwinner\u001b[39m\u001b[38;5;124m\"\u001b[39m: team_a \u001b[38;5;28;01mif\u001b[39;00m pa \u001b[38;5;241m>\u001b[39m pb \u001b[38;5;28;01melse\u001b[39;00m team_b\n\u001b[1;32m      9\u001b[0m     }\n",
      "File \u001b[0;32m~/NBA-Prediction-Model/.venv/lib/python3.9/site-packages/pandas/core/indexing.py:1184\u001b[0m, in \u001b[0;36m_LocationIndexer.__getitem__\u001b[0;34m(self, key)\u001b[0m\n\u001b[1;32m   1182\u001b[0m     key \u001b[38;5;241m=\u001b[39m \u001b[38;5;28mtuple\u001b[39m(com\u001b[38;5;241m.\u001b[39mapply_if_callable(x, \u001b[38;5;28mself\u001b[39m\u001b[38;5;241m.\u001b[39mobj) \u001b[38;5;28;01mfor\u001b[39;00m x \u001b[38;5;129;01min\u001b[39;00m key)\n\u001b[1;32m   1183\u001b[0m     \u001b[38;5;28;01mif\u001b[39;00m \u001b[38;5;28mself\u001b[39m\u001b[38;5;241m.\u001b[39m_is_scalar_access(key):\n\u001b[0;32m-> 1184\u001b[0m         \u001b[38;5;28;01mreturn\u001b[39;00m \u001b[38;5;28;43mself\u001b[39;49m\u001b[38;5;241;43m.\u001b[39;49m\u001b[43mobj\u001b[49m\u001b[38;5;241;43m.\u001b[39;49m\u001b[43m_get_value\u001b[49m\u001b[43m(\u001b[49m\u001b[38;5;241;43m*\u001b[39;49m\u001b[43mkey\u001b[49m\u001b[43m,\u001b[49m\u001b[43m \u001b[49m\u001b[43mtakeable\u001b[49m\u001b[38;5;241;43m=\u001b[39;49m\u001b[38;5;28;43mself\u001b[39;49m\u001b[38;5;241;43m.\u001b[39;49m\u001b[43m_takeable\u001b[49m\u001b[43m)\u001b[49m\n\u001b[1;32m   1185\u001b[0m     \u001b[38;5;28;01mreturn\u001b[39;00m \u001b[38;5;28mself\u001b[39m\u001b[38;5;241m.\u001b[39m_getitem_tuple(key)\n\u001b[1;32m   1186\u001b[0m \u001b[38;5;28;01melse\u001b[39;00m:\n\u001b[1;32m   1187\u001b[0m     \u001b[38;5;66;03m# we by definition only have the 0th axis\u001b[39;00m\n",
      "File \u001b[0;32m~/NBA-Prediction-Model/.venv/lib/python3.9/site-packages/pandas/core/frame.py:4225\u001b[0m, in \u001b[0;36mDataFrame._get_value\u001b[0;34m(self, index, col, takeable)\u001b[0m\n\u001b[1;32m   4222\u001b[0m     series \u001b[38;5;241m=\u001b[39m \u001b[38;5;28mself\u001b[39m\u001b[38;5;241m.\u001b[39m_ixs(col, axis\u001b[38;5;241m=\u001b[39m\u001b[38;5;241m1\u001b[39m)\n\u001b[1;32m   4223\u001b[0m     \u001b[38;5;28;01mreturn\u001b[39;00m series\u001b[38;5;241m.\u001b[39m_values[index]\n\u001b[0;32m-> 4225\u001b[0m series \u001b[38;5;241m=\u001b[39m \u001b[38;5;28;43mself\u001b[39;49m\u001b[38;5;241;43m.\u001b[39;49m\u001b[43m_get_item_cache\u001b[49m\u001b[43m(\u001b[49m\u001b[43mcol\u001b[49m\u001b[43m)\u001b[49m\n\u001b[1;32m   4226\u001b[0m engine \u001b[38;5;241m=\u001b[39m \u001b[38;5;28mself\u001b[39m\u001b[38;5;241m.\u001b[39mindex\u001b[38;5;241m.\u001b[39m_engine\n\u001b[1;32m   4228\u001b[0m \u001b[38;5;28;01mif\u001b[39;00m \u001b[38;5;129;01mnot\u001b[39;00m \u001b[38;5;28misinstance\u001b[39m(\u001b[38;5;28mself\u001b[39m\u001b[38;5;241m.\u001b[39mindex, MultiIndex):\n\u001b[1;32m   4229\u001b[0m     \u001b[38;5;66;03m# CategoricalIndex: Trying to use the engine fastpath may give incorrect\u001b[39;00m\n\u001b[1;32m   4230\u001b[0m     \u001b[38;5;66;03m#  results if our categories are integers that dont match our codes\u001b[39;00m\n\u001b[1;32m   4231\u001b[0m     \u001b[38;5;66;03m# IntervalIndex: IntervalTree has no get_loc\u001b[39;00m\n",
      "File \u001b[0;32m~/NBA-Prediction-Model/.venv/lib/python3.9/site-packages/pandas/core/frame.py:4649\u001b[0m, in \u001b[0;36mDataFrame._get_item_cache\u001b[0;34m(self, item)\u001b[0m\n\u001b[1;32m   4644\u001b[0m res \u001b[38;5;241m=\u001b[39m cache\u001b[38;5;241m.\u001b[39mget(item)\n\u001b[1;32m   4645\u001b[0m \u001b[38;5;28;01mif\u001b[39;00m res \u001b[38;5;129;01mis\u001b[39;00m \u001b[38;5;28;01mNone\u001b[39;00m:\n\u001b[1;32m   4646\u001b[0m     \u001b[38;5;66;03m# All places that call _get_item_cache have unique columns,\u001b[39;00m\n\u001b[1;32m   4647\u001b[0m     \u001b[38;5;66;03m#  pending resolution of GH#33047\u001b[39;00m\n\u001b[0;32m-> 4649\u001b[0m     loc \u001b[38;5;241m=\u001b[39m \u001b[38;5;28;43mself\u001b[39;49m\u001b[38;5;241;43m.\u001b[39;49m\u001b[43mcolumns\u001b[49m\u001b[38;5;241;43m.\u001b[39;49m\u001b[43mget_loc\u001b[49m\u001b[43m(\u001b[49m\u001b[43mitem\u001b[49m\u001b[43m)\u001b[49m\n\u001b[1;32m   4650\u001b[0m     res \u001b[38;5;241m=\u001b[39m \u001b[38;5;28mself\u001b[39m\u001b[38;5;241m.\u001b[39m_ixs(loc, axis\u001b[38;5;241m=\u001b[39m\u001b[38;5;241m1\u001b[39m)\n\u001b[1;32m   4652\u001b[0m     cache[item] \u001b[38;5;241m=\u001b[39m res\n",
      "File \u001b[0;32m~/NBA-Prediction-Model/.venv/lib/python3.9/site-packages/pandas/core/indexes/base.py:3819\u001b[0m, in \u001b[0;36mIndex.get_loc\u001b[0;34m(self, key)\u001b[0m\n\u001b[1;32m   3814\u001b[0m     \u001b[38;5;28;01mif\u001b[39;00m \u001b[38;5;28misinstance\u001b[39m(casted_key, \u001b[38;5;28mslice\u001b[39m) \u001b[38;5;129;01mor\u001b[39;00m (\n\u001b[1;32m   3815\u001b[0m         \u001b[38;5;28misinstance\u001b[39m(casted_key, abc\u001b[38;5;241m.\u001b[39mIterable)\n\u001b[1;32m   3816\u001b[0m         \u001b[38;5;129;01mand\u001b[39;00m \u001b[38;5;28many\u001b[39m(\u001b[38;5;28misinstance\u001b[39m(x, \u001b[38;5;28mslice\u001b[39m) \u001b[38;5;28;01mfor\u001b[39;00m x \u001b[38;5;129;01min\u001b[39;00m casted_key)\n\u001b[1;32m   3817\u001b[0m     ):\n\u001b[1;32m   3818\u001b[0m         \u001b[38;5;28;01mraise\u001b[39;00m InvalidIndexError(key)\n\u001b[0;32m-> 3819\u001b[0m     \u001b[38;5;28;01mraise\u001b[39;00m \u001b[38;5;167;01mKeyError\u001b[39;00m(key) \u001b[38;5;28;01mfrom\u001b[39;00m\u001b[38;5;250m \u001b[39m\u001b[38;5;21;01merr\u001b[39;00m\n\u001b[1;32m   3820\u001b[0m \u001b[38;5;28;01mexcept\u001b[39;00m \u001b[38;5;167;01mTypeError\u001b[39;00m:\n\u001b[1;32m   3821\u001b[0m     \u001b[38;5;66;03m# If we have a listlike key, _check_indexing_error will raise\u001b[39;00m\n\u001b[1;32m   3822\u001b[0m     \u001b[38;5;66;03m#  InvalidIndexError. Otherwise we fall through and re-raise\u001b[39;00m\n\u001b[1;32m   3823\u001b[0m     \u001b[38;5;66;03m#  the TypeError.\u001b[39;00m\n\u001b[1;32m   3824\u001b[0m     \u001b[38;5;28mself\u001b[39m\u001b[38;5;241m.\u001b[39m_check_indexing_error(key)\n",
      "\u001b[0;31mKeyError\u001b[0m: 'PTS_r5'"
     ]
    }
   ],
   "source": [
    "def predict_matchup(team_a: str, team_b: str, frame: pd.DataFrame):\n",
    "    last = frame.groupby(\"TEAM_NAME\").tail(1).set_index(\"TEAM_NAME\")\n",
    "    pa = float(last.loc[team_a, \"PTS_r5\"])\n",
    "    pb = float(last.loc[team_b, \"PTS_r5\"])\n",
    "    return {\n",
    "        \"team_a\": team_a, \"predicted_pts_a\": round(pa, 1),\n",
    "        \"team_b\": team_b, \"predicted_pts_b\": round(pb, 1),\n",
    "        \"winner\": team_a if pa > pb else team_b\n",
    "    }\n",
    "\n",
    "predict_matchup(\"Chicago Bulls\", \"Cleveland Cavaliers\", df)\n"
   ]
  },
  {
   "cell_type": "code",
   "execution_count": 31,
   "id": "050fdddd",
   "metadata": {},
   "outputs": [
    {
     "data": {
      "text/plain": [
       "['SEASON_YEAR',\n",
       " 'TEAM_ID',\n",
       " 'TEAM_ABBREVIATION',\n",
       " 'TEAM_NAME',\n",
       " 'GAME_ID',\n",
       " 'GAME_DATE',\n",
       " 'MATCHUP',\n",
       " 'WL',\n",
       " 'MIN',\n",
       " 'FGM',\n",
       " 'FGA',\n",
       " 'FG_PCT',\n",
       " 'FG3M',\n",
       " 'FG3A',\n",
       " 'FG3_PCT',\n",
       " 'FTM',\n",
       " 'FTA',\n",
       " 'FT_PCT',\n",
       " 'OREB',\n",
       " 'DREB',\n",
       " 'REB',\n",
       " 'AST',\n",
       " 'TOV',\n",
       " 'STL',\n",
       " 'BLK',\n",
       " 'BLKA',\n",
       " 'PF',\n",
       " 'PFD',\n",
       " 'PTS',\n",
       " 'PLUS_MINUS',\n",
       " 'GP_RANK',\n",
       " 'W_RANK',\n",
       " 'L_RANK',\n",
       " 'W_PCT_RANK',\n",
       " 'MIN_RANK',\n",
       " 'FGM_RANK',\n",
       " 'FGA_RANK',\n",
       " 'FG_PCT_RANK',\n",
       " 'FG3M_RANK',\n",
       " 'FG3A_RANK',\n",
       " 'FG3_PCT_RANK',\n",
       " 'FTM_RANK',\n",
       " 'FTA_RANK',\n",
       " 'FT_PCT_RANK',\n",
       " 'OREB_RANK',\n",
       " 'DREB_RANK',\n",
       " 'REB_RANK',\n",
       " 'AST_RANK',\n",
       " 'TOV_RANK',\n",
       " 'STL_RANK',\n",
       " 'BLK_RANK',\n",
       " 'BLKA_RANK',\n",
       " 'PF_RANK',\n",
       " 'PFD_RANK',\n",
       " 'PTS_RANK',\n",
       " 'PLUS_MINUS_RANK',\n",
       " 'AVAILABLE_FLAG']"
      ]
     },
     "execution_count": 31,
     "metadata": {},
     "output_type": "execute_result"
    }
   ],
   "source": [
    "from nba_api.stats.endpoints import TeamGameLogs\n",
    "import pandas as pd\n",
    "\n",
    "logs = TeamGameLogs(\n",
    "    season_nullable=\"2024-25\",\n",
    "    season_type_nullable=\"Regular Season\",\n",
    "    league_id_nullable=\"00\"\n",
    ")\n",
    "df = logs.get_data_frames()[0]\n",
    "df[\"GAME_DATE\"] = pd.to_datetime(df[\"GAME_DATE\"])\n",
    "\n",
    "# 1) See the raw column names\n",
    "list(df.columns)"
   ]
  },
  {
   "cell_type": "code",
   "execution_count": 32,
   "id": "01e82fd2",
   "metadata": {},
   "outputs": [
    {
     "ename": "ImportError",
     "evalue": "cannot import name 'add_home_away_rolling_pts' from 'src.features.team' (/Users/ssjraz/NBA-Prediction-Model/src/features/team.py)",
     "output_type": "error",
     "traceback": [
      "\u001b[0;31m---------------------------------------------------------------------------\u001b[0m",
      "\u001b[0;31mImportError\u001b[0m                               Traceback (most recent call last)",
      "Cell \u001b[0;32mIn[32], line 5\u001b[0m\n\u001b[1;32m      2\u001b[0m sys\u001b[38;5;241m.\u001b[39mpath\u001b[38;5;241m.\u001b[39mappend(os\u001b[38;5;241m.\u001b[39mpath\u001b[38;5;241m.\u001b[39mabspath(\u001b[38;5;124m\"\u001b[39m\u001b[38;5;124m..\u001b[39m\u001b[38;5;124m\"\u001b[39m))\n\u001b[1;32m      4\u001b[0m \u001b[38;5;28;01mfrom\u001b[39;00m\u001b[38;5;250m \u001b[39m\u001b[38;5;21;01msrc\u001b[39;00m\u001b[38;5;21;01m.\u001b[39;00m\u001b[38;5;21;01mdata\u001b[39;00m\u001b[38;5;21;01m.\u001b[39;00m\u001b[38;5;21;01mnba_client\u001b[39;00m\u001b[38;5;250m \u001b[39m\u001b[38;5;28;01mimport\u001b[39;00m get_team_game_logs_season\n\u001b[0;32m----> 5\u001b[0m \u001b[38;5;28;01mfrom\u001b[39;00m\u001b[38;5;250m \u001b[39m\u001b[38;5;21;01msrc\u001b[39;00m\u001b[38;5;21;01m.\u001b[39;00m\u001b[38;5;21;01mfeatures\u001b[39;00m\u001b[38;5;21;01m.\u001b[39;00m\u001b[38;5;21;01mteam\u001b[39;00m\u001b[38;5;250m \u001b[39m\u001b[38;5;28;01mimport\u001b[39;00m basic_context, add_four_factors, attach_opponent, add_rolling, add_home_away_rolling_pts\n\u001b[1;32m      6\u001b[0m \u001b[38;5;28;01mfrom\u001b[39;00m\u001b[38;5;250m \u001b[39m\u001b[38;5;21;01msrc\u001b[39;00m\u001b[38;5;21;01m.\u001b[39;00m\u001b[38;5;21;01mmodels\u001b[39;00m\u001b[38;5;21;01m.\u001b[39;00m\u001b[38;5;21;01mbaselines\u001b[39;00m\u001b[38;5;250m \u001b[39m\u001b[38;5;28;01mimport\u001b[39;00m predict_matchup_baseline\n\u001b[1;32m      7\u001b[0m \u001b[38;5;28;01mfrom\u001b[39;00m\u001b[38;5;250m \u001b[39m\u001b[38;5;21;01msrc\u001b[39;00m\u001b[38;5;21;01m.\u001b[39;00m\u001b[38;5;21;01mmodels\u001b[39;00m\u001b[38;5;21;01m.\u001b[39;00m\u001b[38;5;21;01mbaselines\u001b[39;00m\u001b[38;5;250m \u001b[39m\u001b[38;5;28;01mimport\u001b[39;00m predict_matchup_baseline_homeaway\n",
      "\u001b[0;31mImportError\u001b[0m: cannot import name 'add_home_away_rolling_pts' from 'src.features.team' (/Users/ssjraz/NBA-Prediction-Model/src/features/team.py)"
     ]
    }
   ],
   "source": [
    "import sys, os, importlib\n",
    "sys.path.append(os.path.abspath(\"..\"))\n",
    "\n",
    "from src.data.nba_client import get_team_game_logs_season\n",
    "from src.features.team import basic_context, add_four_factors, attach_opponent, add_rolling, add_home_away_rolling_pts\n",
    "from src.models.baselines import predict_matchup_baseline\n",
    "from src.models.baselines import predict_matchup_baseline_homeaway\n",
    "\n",
    "\n",
    "\n",
    "df = get_team_game_logs_season(\"2024-25\", (\"Regular Season\",\"Playoffs\"))\n",
    "df = basic_context(df)\n",
    "df = add_four_factors(df)\n",
    "df = attach_opponent(df)\n",
    "df = add_rolling(df, window=10)\n",
    "df = add_home_away_rolling_pts(df, window=10)\n",
    "\n",
    "\n",
    "predict_matchup_baseline(\"Boston Celtics\", \"Dallas Mavericks\", df, col=\"PTS_r10\")\n",
    "predict_matchup_baseline_homeaway(\"Boston Celtics\", \"Dallas Mavericks\", df, window=10)\n",
    "\n"
   ]
  }
 ],
 "metadata": {
  "kernelspec": {
   "display_name": ".venv",
   "language": "python",
   "name": "python3"
  },
  "language_info": {
   "codemirror_mode": {
    "name": "ipython",
    "version": 3
   },
   "file_extension": ".py",
   "mimetype": "text/x-python",
   "name": "python",
   "nbconvert_exporter": "python",
   "pygments_lexer": "ipython3",
   "version": "3.9.6"
  }
 },
 "nbformat": 4,
 "nbformat_minor": 5
}
