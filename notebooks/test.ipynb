{
 "cells": [
  {
   "cell_type": "code",
   "execution_count": 10,
   "id": "c9824535",
   "metadata": {},
   "outputs": [
    {
     "data": {
      "text/plain": [
       "['add_four_factors',\n",
       " 'add_home_away_rolling_pts',\n",
       " 'add_rolling',\n",
       " 'attach_opponent',\n",
       " 'basic_context',\n",
       " 'build_matchup_frame']"
      ]
     },
     "execution_count": 10,
     "metadata": {},
     "output_type": "execute_result"
    }
   ],
   "source": [
    "import sys, os, importlib, inspect\n",
    "sys.path.append(os.path.abspath(\"..\"))\n",
    "\n",
    "import src.features.team as team_mod\n",
    "importlib.reload(team_mod)\n",
    "\n",
    "team_mod.__file__              # <- should point to /Users/ssjraz/NBA-Prediction-Model/src/features/team.py\n",
    "[name for name, obj in inspect.getmembers(team_mod) if inspect.isfunction(obj)]\n"
   ]
  },
  {
   "cell_type": "code",
   "execution_count": 11,
   "id": "37ca27d5",
   "metadata": {},
   "outputs": [],
   "source": [
    "from src.features.team import basic_context, add_four_factors, attach_opponent, add_rolling, add_home_away_rolling_pts, build_matchup_frame\n",
    "from src.models.baselines import predict_matchup_baseline, predict_matchup_baseline_homeaway\n"
   ]
  },
  {
   "cell_type": "code",
   "execution_count": 12,
   "id": "27fbc084",
   "metadata": {},
   "outputs": [
    {
     "data": {
      "text/plain": [
       "{'home': 'Boston Celtics',\n",
       " 'away': 'Dallas Mavericks',\n",
       " 'pred_home': 112.4,\n",
       " 'pred_away': 108.9,\n",
       " 'winner': 'Boston Celtics'}"
      ]
     },
     "execution_count": 12,
     "metadata": {},
     "output_type": "execute_result"
    }
   ],
   "source": [
    "from src.data.nba_client import get_team_game_logs_season\n",
    "\n",
    "df = get_team_game_logs_season(\"2024-25\", (\"Regular Season\",\"Playoffs\"))\n",
    "df = basic_context(df)\n",
    "df = add_four_factors(df)\n",
    "df = attach_opponent(df)\n",
    "df = add_rolling(df, window=10)\n",
    "df = add_home_away_rolling_pts(df, window=10)\n",
    "\n",
    "predict_matchup_baseline(\"Boston Celtics\", \"Dallas Mavericks\", df, col=\"PTS_r10\")\n",
    "predict_matchup_baseline_homeaway(\"Boston Celtics\", \"Dallas Mavericks\", df, window=10)\n"
   ]
  },
  {
   "cell_type": "code",
   "execution_count": 13,
   "id": "42e30607",
   "metadata": {},
   "outputs": [
    {
     "data": {
      "text/html": [
       "<div>\n",
       "<style scoped>\n",
       "    .dataframe tbody tr th:only-of-type {\n",
       "        vertical-align: middle;\n",
       "    }\n",
       "\n",
       "    .dataframe tbody tr th {\n",
       "        vertical-align: top;\n",
       "    }\n",
       "\n",
       "    .dataframe thead th {\n",
       "        text-align: right;\n",
       "    }\n",
       "</style>\n",
       "<table border=\"1\" class=\"dataframe\">\n",
       "  <thead>\n",
       "    <tr style=\"text-align: right;\">\n",
       "      <th></th>\n",
       "      <th>GAME_ID</th>\n",
       "      <th>TEAM_ID</th>\n",
       "      <th>TEAM_NAME</th>\n",
       "      <th>HOME</th>\n",
       "      <th>eFG_r10</th>\n",
       "      <th>FTr_r10</th>\n",
       "      <th>TOV_rate_r10</th>\n",
       "      <th>ORB_pct_r10</th>\n",
       "      <th>PTS_r10</th>\n",
       "      <th>eFG_allowed_r10_opp</th>\n",
       "      <th>TOV_rate_forced_r10_opp</th>\n",
       "      <th>PTS</th>\n",
       "    </tr>\n",
       "  </thead>\n",
       "  <tbody>\n",
       "    <tr>\n",
       "      <th>0</th>\n",
       "      <td>0022400064</td>\n",
       "      <td>1610612737</td>\n",
       "      <td>Atlanta Hawks</td>\n",
       "      <td>True</td>\n",
       "      <td>NaN</td>\n",
       "      <td>NaN</td>\n",
       "      <td>NaN</td>\n",
       "      <td>NaN</td>\n",
       "      <td>NaN</td>\n",
       "      <td>NaN</td>\n",
       "      <td>NaN</td>\n",
       "      <td>120</td>\n",
       "    </tr>\n",
       "    <tr>\n",
       "      <th>1</th>\n",
       "      <td>0022400079</td>\n",
       "      <td>1610612737</td>\n",
       "      <td>Atlanta Hawks</td>\n",
       "      <td>True</td>\n",
       "      <td>NaN</td>\n",
       "      <td>NaN</td>\n",
       "      <td>NaN</td>\n",
       "      <td>NaN</td>\n",
       "      <td>NaN</td>\n",
       "      <td>NaN</td>\n",
       "      <td>NaN</td>\n",
       "      <td>125</td>\n",
       "    </tr>\n",
       "    <tr>\n",
       "      <th>2</th>\n",
       "      <td>0022400100</td>\n",
       "      <td>1610612737</td>\n",
       "      <td>Atlanta Hawks</td>\n",
       "      <td>False</td>\n",
       "      <td>0.520734</td>\n",
       "      <td>0.454272</td>\n",
       "      <td>0.158173</td>\n",
       "      <td>0.265538</td>\n",
       "      <td>116.333333</td>\n",
       "      <td>0.424251</td>\n",
       "      <td>0.188422</td>\n",
       "      <td>104</td>\n",
       "    </tr>\n",
       "    <tr>\n",
       "      <th>3</th>\n",
       "      <td>0022400103</td>\n",
       "      <td>1610612737</td>\n",
       "      <td>Atlanta Hawks</td>\n",
       "      <td>True</td>\n",
       "      <td>0.534069</td>\n",
       "      <td>0.451815</td>\n",
       "      <td>0.156069</td>\n",
       "      <td>0.236653</td>\n",
       "      <td>117.000000</td>\n",
       "      <td>0.590516</td>\n",
       "      <td>0.146849</td>\n",
       "      <td>119</td>\n",
       "    </tr>\n",
       "    <tr>\n",
       "      <th>4</th>\n",
       "      <td>0022400121</td>\n",
       "      <td>1610612737</td>\n",
       "      <td>Atlanta Hawks</td>\n",
       "      <td>False</td>\n",
       "      <td>0.534623</td>\n",
       "      <td>0.405663</td>\n",
       "      <td>0.155979</td>\n",
       "      <td>0.245137</td>\n",
       "      <td>117.600000</td>\n",
       "      <td>0.577098</td>\n",
       "      <td>0.149042</td>\n",
       "      <td>120</td>\n",
       "    </tr>\n",
       "  </tbody>\n",
       "</table>\n",
       "</div>"
      ],
      "text/plain": [
       "      GAME_ID     TEAM_ID      TEAM_NAME   HOME   eFG_r10   FTr_r10  \\\n",
       "0  0022400064  1610612737  Atlanta Hawks   True       NaN       NaN   \n",
       "1  0022400079  1610612737  Atlanta Hawks   True       NaN       NaN   \n",
       "2  0022400100  1610612737  Atlanta Hawks  False  0.520734  0.454272   \n",
       "3  0022400103  1610612737  Atlanta Hawks   True  0.534069  0.451815   \n",
       "4  0022400121  1610612737  Atlanta Hawks  False  0.534623  0.405663   \n",
       "\n",
       "   TOV_rate_r10  ORB_pct_r10     PTS_r10  eFG_allowed_r10_opp  \\\n",
       "0           NaN          NaN         NaN                  NaN   \n",
       "1           NaN          NaN         NaN                  NaN   \n",
       "2      0.158173     0.265538  116.333333             0.424251   \n",
       "3      0.156069     0.236653  117.000000             0.590516   \n",
       "4      0.155979     0.245137  117.600000             0.577098   \n",
       "\n",
       "   TOV_rate_forced_r10_opp  PTS  \n",
       "0                      NaN  120  \n",
       "1                      NaN  125  \n",
       "2                 0.188422  104  \n",
       "3                 0.146849  119  \n",
       "4                 0.149042  120  "
      ]
     },
     "execution_count": 13,
     "metadata": {},
     "output_type": "execute_result"
    }
   ],
   "source": [
    "matchups = build_matchup_frame(df, window=10)\n",
    "matchups.head()"
   ]
  }
 ],
 "metadata": {
  "kernelspec": {
   "display_name": ".venv",
   "language": "python",
   "name": "python3"
  },
  "language_info": {
   "codemirror_mode": {
    "name": "ipython",
    "version": 3
   },
   "file_extension": ".py",
   "mimetype": "text/x-python",
   "name": "python",
   "nbconvert_exporter": "python",
   "pygments_lexer": "ipython3",
   "version": "3.9.6"
  }
 },
 "nbformat": 4,
 "nbformat_minor": 5
}
